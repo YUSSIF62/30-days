{
 "cells": [
  {
   "cell_type": "code",
   "execution_count": 5,
   "id": "aad14c3a-63af-4044-b195-3c188182f6a3",
   "metadata": {},
   "outputs": [
    {
     "name": "stdout",
     "output_type": "stream",
     "text": [
      "<class 'int'>\n",
      "<class 'float'>\n",
      "<class 'int'>\n"
     ]
    }
   ],
   "source": [
    "print(type(10))\n",
    "print(type(9.4))\n",
    "print(type(5-3))\n",
    "print(type('You Family name')"
   ]
  },
  {
   "cell_type": "raw",
   "id": "070db34a-5d5f-4102-9d29-da7bc2b35ff3",
   "metadata": {},
   "source": []
  },
  {
   "cell_type": "code",
   "execution_count": null,
   "id": "4dc14345-8b8e-4fe1-8c37-0f3cddb90e94",
   "metadata": {},
   "outputs": [],
   "source": []
  }
 ],
 "metadata": {
  "kernelspec": {
   "display_name": "Python [conda env:base] *",
   "language": "python",
   "name": "conda-base-py"
  },
  "language_info": {
   "codemirror_mode": {
    "name": "ipython",
    "version": 3
   },
   "file_extension": ".py",
   "mimetype": "text/x-python",
   "name": "python",
   "nbconvert_exporter": "python",
   "pygments_lexer": "ipython3",
   "version": "3.12.7"
  }
 },
 "nbformat": 4,
 "nbformat_minor": 5
}
